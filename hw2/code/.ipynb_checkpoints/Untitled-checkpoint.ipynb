{
 "cells": [
  {
   "cell_type": "code",
   "execution_count": 1,
   "metadata": {},
   "outputs": [],
   "source": [
    "import os\n",
    "import numpy as np\n",
    "from os.path import abspath, exists\n",
    "from scipy import sparse\n",
    "from sklearn.cluster import KMeans\n",
    "from matplotlib import pyplot as plt\n",
    "import csv\n",
    "from collections import Counter"
   ]
  },
  {
   "cell_type": "code",
   "execution_count": 2,
   "metadata": {},
   "outputs": [],
   "source": [
    "def output_file(a, idx2name, c_idx):\n",
    "    dirpath = os.getcwd()\n",
    "    node_file = dirpath + '//nodes.csv'\n",
    "    edge_file = dirpath + '//edges.csv'\n",
    "\n",
    "    with open(edge_file, 'w') as fid:\n",
    "        fid.write('Source\\tTarget\\n')\n",
    "        for i in range(len(a)):\n",
    "            fid.write(f'{a[i,0]}\\t{a[i,1]}\\n')\n",
    "\n",
    "    with open(node_file, 'w') as fid:\n",
    "        fid.write('Id\\tLabel\\tColor\\n')\n",
    "        for i in range(len(idx2name)):\n",
    "            fid.write(f'{i}\\t{idx2name[i]}\\t{c_idx[i]}\\n')"
   ]
  },
  {
   "cell_type": "code",
   "execution_count": 7,
   "metadata": {},
   "outputs": [
    {
     "name": "stdout",
     "output_type": "stream",
     "text": [
      "19090\n",
      "(19090, 2)\n"
     ]
    },
    {
     "data": {
      "text/plain": [
       "array([[ 267, 1394],\n",
       "       [ 267,  483],\n",
       "       [ 267, 1051],\n",
       "       ...,\n",
       "       [1133, 1423],\n",
       "       [1133, 1408],\n",
       "       [1133, 1152]])"
      ]
     },
     "execution_count": 7,
     "metadata": {},
     "output_type": "execute_result"
    }
   ],
   "source": [
    "def import_graph():\n",
    "    # read the graph from 'play_graph.txt'\n",
    "    f_path = abspath(\"edges.txt\")\n",
    "    if exists(f_path):\n",
    "        with open(f_path) as graph_file:\n",
    "            lines = [line.split() for line in graph_file]\n",
    "    ret = np.array(lines).astype(int)\n",
    "    print(len(ret))\n",
    "    print(ret.shape)\n",
    "    return ret\n",
    "import_graph()"
   ]
  },
  {
   "cell_type": "code",
   "execution_count": 5,
   "metadata": {},
   "outputs": [],
   "source": [
    "def read_team_name():\n",
    "    # read inverse_teams.txt file\n",
    "    f_path = abspath(\"nodes.csv\")\n",
    "    idx2name = []\n",
    "    idx2true = [] \n",
    "    if exists(f_path):\n",
    "        with open(f_path) as fid:\n",
    "            for line in fid.readlines():\n",
    "#                 print(line)\n",
    "                name = line.split(\"\\t\")[1]\n",
    "                trueLabel =line.split(\"\\t\")[2]\n",
    "                idx2name.append(name[:-1])\n",
    "                idx2true.append(trueLabel[:-1])\n",
    "    return idx2name,idx2true\n"
   ]
  },
  {
   "cell_type": "code",
   "execution_count": 14,
   "metadata": {},
   "outputs": [
    {
     "name": "stdout",
     "output_type": "stream",
     "text": [
      "19090\n",
      "(19090, 2)\n",
      "i\n"
     ]
    },
    {
     "data": {
      "text/plain": [
       "array([ 266,  266,  266, ..., 1132, 1132, 1132])"
      ]
     },
     "metadata": {},
     "output_type": "display_data"
    },
    {
     "name": "stdout",
     "output_type": "stream",
     "text": [
      "19090\n",
      "j\n"
     ]
    },
    {
     "data": {
      "text/plain": [
       "array([1393,  482, 1050, ..., 1422, 1407, 1151])"
      ]
     },
     "metadata": {},
     "output_type": "display_data"
    },
    {
     "ename": "ValueError",
     "evalue": "row index exceeds matrix dimensions",
     "output_type": "error",
     "traceback": [
      "\u001b[0;31m---------------------------------------------------------------------------\u001b[0m",
      "\u001b[0;31mValueError\u001b[0m                                Traceback (most recent call last)",
      "\u001b[0;32m<ipython-input-14-6687fdfd7650>\u001b[0m in \u001b[0;36m<module>\u001b[0;34m\u001b[0m\n\u001b[1;32m     79\u001b[0m     \u001b[0;31m# output file\u001b[0m\u001b[0;34m\u001b[0m\u001b[0;34m\u001b[0m\u001b[0;34m\u001b[0m\u001b[0m\n\u001b[1;32m     80\u001b[0m \u001b[0;31m#     output_file(a, idx2name, c_idx)\u001b[0m\u001b[0;34m\u001b[0m\u001b[0;34m\u001b[0m\u001b[0;34m\u001b[0m\u001b[0m\n\u001b[0;32m---> 81\u001b[0;31m \u001b[0mmain\u001b[0m\u001b[0;34m(\u001b[0m\u001b[0;34m)\u001b[0m\u001b[0;34m\u001b[0m\u001b[0;34m\u001b[0m\u001b[0m\n\u001b[0m",
      "\u001b[0;32m<ipython-input-14-6687fdfd7650>\u001b[0m in \u001b[0;36mmain\u001b[0;34m()\u001b[0m\n\u001b[1;32m     20\u001b[0m     \u001b[0mv\u001b[0m \u001b[0;34m=\u001b[0m \u001b[0mnp\u001b[0m\u001b[0;34m.\u001b[0m\u001b[0mones\u001b[0m\u001b[0;34m(\u001b[0m\u001b[0;34m(\u001b[0m\u001b[0ma\u001b[0m\u001b[0;34m.\u001b[0m\u001b[0mshape\u001b[0m\u001b[0;34m[\u001b[0m\u001b[0;36m0\u001b[0m\u001b[0;34m]\u001b[0m\u001b[0;34m,\u001b[0m \u001b[0;36m1\u001b[0m\u001b[0;34m)\u001b[0m\u001b[0;34m)\u001b[0m\u001b[0;34m.\u001b[0m\u001b[0mflatten\u001b[0m\u001b[0;34m(\u001b[0m\u001b[0;34m)\u001b[0m\u001b[0;34m\u001b[0m\u001b[0;34m\u001b[0m\u001b[0m\n\u001b[1;32m     21\u001b[0m \u001b[0;34m\u001b[0m\u001b[0m\n\u001b[0;32m---> 22\u001b[0;31m     \u001b[0mA\u001b[0m \u001b[0;34m=\u001b[0m \u001b[0msparse\u001b[0m\u001b[0;34m.\u001b[0m\u001b[0mcoo_matrix\u001b[0m\u001b[0;34m(\u001b[0m\u001b[0;34m(\u001b[0m\u001b[0mv\u001b[0m\u001b[0;34m,\u001b[0m \u001b[0;34m(\u001b[0m\u001b[0mi\u001b[0m\u001b[0;34m,\u001b[0m \u001b[0mj\u001b[0m\u001b[0;34m)\u001b[0m\u001b[0;34m)\u001b[0m\u001b[0;34m,\u001b[0m \u001b[0mshape\u001b[0m\u001b[0;34m=\u001b[0m\u001b[0;34m(\u001b[0m\u001b[0;36m1224\u001b[0m\u001b[0;34m,\u001b[0m \u001b[0;36m1224\u001b[0m\u001b[0;34m)\u001b[0m\u001b[0;34m)\u001b[0m\u001b[0;34m\u001b[0m\u001b[0;34m\u001b[0m\u001b[0m\n\u001b[0m\u001b[1;32m     23\u001b[0m \u001b[0;34m\u001b[0m\u001b[0m\n\u001b[1;32m     24\u001b[0m     \u001b[0mprint\u001b[0m\u001b[0;34m(\u001b[0m\u001b[0;34m\"**A**\"\u001b[0m\u001b[0;34m)\u001b[0m\u001b[0;34m\u001b[0m\u001b[0;34m\u001b[0m\u001b[0m\n",
      "\u001b[0;32m/Library/Frameworks/Python.framework/Versions/3.8/lib/python3.8/site-packages/scipy/sparse/coo.py\u001b[0m in \u001b[0;36m__init__\u001b[0;34m(self, arg1, shape, dtype, copy)\u001b[0m\n\u001b[1;32m    194\u001b[0m             \u001b[0mself\u001b[0m\u001b[0;34m.\u001b[0m\u001b[0mdata\u001b[0m \u001b[0;34m=\u001b[0m \u001b[0mself\u001b[0m\u001b[0;34m.\u001b[0m\u001b[0mdata\u001b[0m\u001b[0;34m.\u001b[0m\u001b[0mastype\u001b[0m\u001b[0;34m(\u001b[0m\u001b[0mdtype\u001b[0m\u001b[0;34m,\u001b[0m \u001b[0mcopy\u001b[0m\u001b[0;34m=\u001b[0m\u001b[0;32mFalse\u001b[0m\u001b[0;34m)\u001b[0m\u001b[0;34m\u001b[0m\u001b[0;34m\u001b[0m\u001b[0m\n\u001b[1;32m    195\u001b[0m \u001b[0;34m\u001b[0m\u001b[0m\n\u001b[0;32m--> 196\u001b[0;31m         \u001b[0mself\u001b[0m\u001b[0;34m.\u001b[0m\u001b[0m_check\u001b[0m\u001b[0;34m(\u001b[0m\u001b[0;34m)\u001b[0m\u001b[0;34m\u001b[0m\u001b[0;34m\u001b[0m\u001b[0m\n\u001b[0m\u001b[1;32m    197\u001b[0m \u001b[0;34m\u001b[0m\u001b[0m\n\u001b[1;32m    198\u001b[0m     \u001b[0;32mdef\u001b[0m \u001b[0mreshape\u001b[0m\u001b[0;34m(\u001b[0m\u001b[0mself\u001b[0m\u001b[0;34m,\u001b[0m \u001b[0;34m*\u001b[0m\u001b[0margs\u001b[0m\u001b[0;34m,\u001b[0m \u001b[0;34m**\u001b[0m\u001b[0mkwargs\u001b[0m\u001b[0;34m)\u001b[0m\u001b[0;34m:\u001b[0m\u001b[0;34m\u001b[0m\u001b[0;34m\u001b[0m\u001b[0m\n",
      "\u001b[0;32m/Library/Frameworks/Python.framework/Versions/3.8/lib/python3.8/site-packages/scipy/sparse/coo.py\u001b[0m in \u001b[0;36m_check\u001b[0;34m(self)\u001b[0m\n\u001b[1;32m    281\u001b[0m         \u001b[0;32mif\u001b[0m \u001b[0mself\u001b[0m\u001b[0;34m.\u001b[0m\u001b[0mnnz\u001b[0m \u001b[0;34m>\u001b[0m \u001b[0;36m0\u001b[0m\u001b[0;34m:\u001b[0m\u001b[0;34m\u001b[0m\u001b[0;34m\u001b[0m\u001b[0m\n\u001b[1;32m    282\u001b[0m             \u001b[0;32mif\u001b[0m \u001b[0mself\u001b[0m\u001b[0;34m.\u001b[0m\u001b[0mrow\u001b[0m\u001b[0;34m.\u001b[0m\u001b[0mmax\u001b[0m\u001b[0;34m(\u001b[0m\u001b[0;34m)\u001b[0m \u001b[0;34m>=\u001b[0m \u001b[0mself\u001b[0m\u001b[0;34m.\u001b[0m\u001b[0mshape\u001b[0m\u001b[0;34m[\u001b[0m\u001b[0;36m0\u001b[0m\u001b[0;34m]\u001b[0m\u001b[0;34m:\u001b[0m\u001b[0;34m\u001b[0m\u001b[0;34m\u001b[0m\u001b[0m\n\u001b[0;32m--> 283\u001b[0;31m                 \u001b[0;32mraise\u001b[0m \u001b[0mValueError\u001b[0m\u001b[0;34m(\u001b[0m\u001b[0;34m'row index exceeds matrix dimensions'\u001b[0m\u001b[0;34m)\u001b[0m\u001b[0;34m\u001b[0m\u001b[0;34m\u001b[0m\u001b[0m\n\u001b[0m\u001b[1;32m    284\u001b[0m             \u001b[0;32mif\u001b[0m \u001b[0mself\u001b[0m\u001b[0;34m.\u001b[0m\u001b[0mcol\u001b[0m\u001b[0;34m.\u001b[0m\u001b[0mmax\u001b[0m\u001b[0;34m(\u001b[0m\u001b[0;34m)\u001b[0m \u001b[0;34m>=\u001b[0m \u001b[0mself\u001b[0m\u001b[0;34m.\u001b[0m\u001b[0mshape\u001b[0m\u001b[0;34m[\u001b[0m\u001b[0;36m1\u001b[0m\u001b[0;34m]\u001b[0m\u001b[0;34m:\u001b[0m\u001b[0;34m\u001b[0m\u001b[0;34m\u001b[0m\u001b[0m\n\u001b[1;32m    285\u001b[0m                 \u001b[0;32mraise\u001b[0m \u001b[0mValueError\u001b[0m\u001b[0;34m(\u001b[0m\u001b[0;34m'column index exceeds matrix dimensions'\u001b[0m\u001b[0;34m)\u001b[0m\u001b[0;34m\u001b[0m\u001b[0;34m\u001b[0m\u001b[0m\n",
      "\u001b[0;31mValueError\u001b[0m: row index exceeds matrix dimensions"
     ]
    }
   ],
   "source": [
    "def main():\n",
    "    # spectral clustering\n",
    "    n = 19090 #remove orphan nodes \n",
    "    k = 2\n",
    "\n",
    "    # load the graph\n",
    "    a = import_graph()\n",
    "\n",
    "    i = a[:, 0]-1\n",
    "    j = a[:, 1]-1\n",
    "    \n",
    "    dedupedi = list(dict.fromkeys(i))\n",
    "    dedupedj = list(dict.fromkeys(j))\n",
    "\n",
    "    print(\"i\")\n",
    "    display(i)\n",
    "    print(len(dedupediedi))\n",
    "    \n",
    "    print(\"j\")\n",
    "    display(j)\n",
    "    display(dedupedj)\n",
    "    \n",
    "    #1224 * 1224\n",
    "    \n",
    "    v = np.ones((a.shape[0], 1)).flatten()\n",
    "\n",
    "    A = sparse.coo_matrix((v, (i, j)), shape=(1224, 1224))\n",
    "    \n",
    "    print(\"**A**\")\n",
    "    display(A)\n",
    "    print(A)\n",
    "    \n",
    "#     A = (A + np.transpose(A))/2\n",
    "    print(A.shape)\n",
    "    D = np.diag(1/np.sqrt(np.sum(A, axis=1)).A1)\n",
    "    L = D @ A @ D\n",
    "    \n",
    "    \n",
    "\n",
    "    v, x = np.linalg.eig(L)\n",
    "    x = x[:, 0:k].real\n",
    "    \n",
    "    # use svd() instead of eig, to make sure the eigenvalues are sorted\n",
    "#     x, v, _= np.linalg.svd(L)\n",
    "#     x = x[:, 0:k]\n",
    "    \n",
    "    x = x/np.repeat(np.sqrt(np.sum(x*x, axis=1).reshape(-1, 1)), k, axis=1)\n",
    "\n",
    "    # scatter\n",
    "    plt.scatter(x[:, 0], x[:, 1])\n",
    "    plt.show()\n",
    "\n",
    "    # k-means\n",
    "    kmeans = KMeans(n_clusters=k).fit(x)\n",
    "    c_idx = kmeans.labels_\n",
    "    print(\"*** c_idx ***\")\n",
    "    print(c_idx)\n",
    "\n",
    "    # show cluster\n",
    "    idx2name,idx2true = read_team_name()\n",
    "    ctr=0\n",
    "    clusters=[]\n",
    "    for i in range(2):\n",
    "        cluster=[]\n",
    "        print(f'Cluster {i+1}\\n***************')\n",
    "        idx = [index for index, t in enumerate(c_idx) if t == i]\n",
    "        for index in idx:\n",
    "            ctr+=1\n",
    "            print(idx2name[index])\n",
    "            item=(idx2name[index],idx2true[index])\n",
    "            cluster.append(item)\n",
    "        print('\\n')\n",
    "        clusters.append(cluster)\n",
    "        print(\"count in \", i ,\"st cluster: \",ctr)\n",
    "    display(clusters)\n",
    "\n",
    "    cluster1 = clusters[0]\n",
    "    counter=Counter(elem[1] for elem in cluster1)\n",
    "    print(counter)\n",
    "    \n",
    "    cluster2 = clusters[1]\n",
    "    counter2=Counter(elem[1] for elem in cluster2)\n",
    "    print(counter2)\n",
    "    # output file\n",
    "#     output_file(a, idx2name, c_idx)\n",
    "main()"
   ]
  },
  {
   "cell_type": "code",
   "execution_count": null,
   "metadata": {},
   "outputs": [],
   "source": []
  },
  {
   "cell_type": "code",
   "execution_count": null,
   "metadata": {},
   "outputs": [],
   "source": []
  }
 ],
 "metadata": {
  "kernelspec": {
   "display_name": "Python 3",
   "language": "python",
   "name": "python3"
  },
  "language_info": {
   "codemirror_mode": {
    "name": "ipython",
    "version": 3
   },
   "file_extension": ".py",
   "mimetype": "text/x-python",
   "name": "python",
   "nbconvert_exporter": "python",
   "pygments_lexer": "ipython3",
   "version": "3.8.5"
  }
 },
 "nbformat": 4,
 "nbformat_minor": 4
}
