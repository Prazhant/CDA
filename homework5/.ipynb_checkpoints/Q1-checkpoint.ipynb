{
 "cells": [
  {
   "cell_type": "code",
   "execution_count": 10,
   "metadata": {},
   "outputs": [],
   "source": [
    "import pandas as pd\n",
    "from sklearn.model_selection import train_test_split\n",
    "from sklearn.naive_bayes import GaussianNB\n",
    "from sklearn.metrics import accuracy_score\n",
    "import math\n",
    "from sklearn.linear_model import LogisticRegression\n",
    "from sklearn.neighbors import KNeighborsClassifier\n",
    "import matplotlib.pyplot as plt"
   ]
  },
  {
   "cell_type": "code",
   "execution_count": 2,
   "metadata": {},
   "outputs": [],
   "source": [
    "data = pd.read_csv('./data/marriage.csv', header=None)\n",
    "# display(data)\n",
    "factors = data[data.columns[:-1]]\n",
    "label=data[54]\n",
    "# display(factors)\n",
    "# display(label)"
   ]
  },
  {
   "cell_type": "code",
   "execution_count": 8,
   "metadata": {},
   "outputs": [],
   "source": [
    "def perform_classification(model,factorsTrain, factorsTest, labelTrain, labelTest):\n",
    "    model.fit(factorsTrain,labelTrain)\n",
    "    accuracy=accuracy_score(labelTest,model.predict(factorsTest))\n",
    "    return float(\"{:.2f}\".format(accuracy*100))\n",
    "    "
   ]
  },
  {
   "cell_type": "code",
   "execution_count": 14,
   "metadata": {},
   "outputs": [
    {
     "data": {
      "image/png": "[encoded data removed]",
      "text/plain": [
       "<Figure size 432x288 with 1 Axes>"
      ]
     },
     "metadata": {
      "needs_background": "light"
     },
     "output_type": "display_data"
    }
   ],
   "source": [
    "accuracies=[]\n",
    "models=[]\n",
    "factorsTrain, factorsTest, labelTrain, labelTest = train_test_split(factors, label, test_size=0.2, random_state=1,shuffle=True)\n",
    "models.append(GaussianNB())\n",
    "models.append(LogisticRegression(penalty='none'))\n",
    "models.append(KNeighborsClassifier())\n",
    "for model in models:\n",
    "    accuracies.append(perform_classification(model,factorsTrain,factorsTest,labelTrain,labelTest))\n",
    "    \n",
    "fig = plt.figure()\n",
    "ax = fig.add_axes([0,0,1,1])\n",
    "modelNames=[type(model).__name__ for model in models]\n",
    "ax.bar(modelNames,accuracies)\n",
    "plt.locator_params(axis=\"y\", nbins=5)\n",
    "for i, v in enumerate(modelNames):\n",
    "    ax.text(v + 3, i + .25, str(v), color='blue', fontweight='bold')\n",
    "plt.show()\n"
   ]
  },
  {
   "cell_type": "code",
   "execution_count": 4,
   "metadata": {},
   "outputs": [],
   "source": [
    "lrModel=LogisticRegression(penalty='none')\n",
    "lrModel.fit(factorsTrain,labelTrain)\n",
    "lrAccuracy=accuracy_score(labelTest,lrModel.predict(factorsTest))\n",
    "accuracies.append(float(\"{:.2f}\".format(lrAccuracy*100)))\n"
   ]
  },
  {
   "cell_type": "code",
   "execution_count": 5,
   "metadata": {},
   "outputs": [
    {
     "name": "stdout",
     "output_type": "stream",
     "text": [
      "[94.12, 91.18, 94.12]\n"
     ]
    }
   ],
   "source": [
    "knnModel=KNeighborsClassifier()\n",
    "knnModel.fit(factorsTrain,labelTrain)\n",
    "knnAccuracy=accuracy_score(labelTest,knnModel.predict(factorsTest))\n",
    "accuracies.append(float(\"{:.2f}\".format(knnAccuracy*100)))\n",
    "print(accuracies)"
   ]
  }
 ],
 "metadata": {
  "kernelspec": {
   "display_name": "Python 3",
   "language": "python",
   "name": "python3"
  },
  "language_info": {
   "codemirror_mode": {
    "name": "ipython",
    "version": 3
   },
   "file_extension": ".py",
   "mimetype": "text/x-python",
   "name": "python",
   "nbconvert_exporter": "python",
   "pygments_lexer": "ipython3",
   "version": "3.8.5"
  }
 },
 "nbformat": 4,
 "nbformat_minor": 4
}
