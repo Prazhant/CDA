{
 "cells": [
  {
   "cell_type": "code",
   "execution_count": 5,
   "metadata": {},
   "outputs": [],
   "source": [
    "import pandas as pd\n",
    "from pandas import DataFrame\n",
    "import numpy as np\n",
    "from sklearn.linear_model import RidgeCV,Ridge,Lasso,LassoCV,lasso_path,lars_path,ElasticNet,ElasticNetCV\n",
    "from sklearn.model_selection import train_test_split,validation_curve,cross_val_score\n",
    "from sklearn.metrics import mean_squared_error,r2_score\n",
    "import matplotlib.pyplot as plt\n",
    "from sklearn.metrics import  make_scorer\n",
    "from itertools import cycle\n",
    "import warnings\n",
    "warnings.filterwarnings('ignore')"
   ]
  },
  {
   "cell_type": "code",
   "execution_count": 6,
   "metadata": {},
   "outputs": [
    {
     "name": "stdout",
     "output_type": "stream",
     "text": [
      "range of alphas: 0.005 5000000000.0\n",
      "optimal alpha:  0.10772173450159389\n",
      "mse for ridge regression:  21846054179.982834\n",
      "r2 for ridge regression:  0.8204506806336742\n"
     ]
    },
    {
     "data": {
      "text/plain": [
       "array([[ 50168.63728641,   3632.59579198, -12274.49178788,\n",
       "          1832.88750652,  57635.40428256, -19686.81891839,\n",
       "           207.59314895]])"
      ]
     },
     "metadata": {},
     "output_type": "display_data"
    },
    {
     "data": {
      "text/html": [
       "<div>\n",
       "<style scoped>\n",
       "    .dataframe tbody tr th:only-of-type {\n",
       "        vertical-align: middle;\n",
       "    }\n",
       "\n",
       "    .dataframe tbody tr th {\n",
       "        vertical-align: top;\n",
       "    }\n",
       "\n",
       "    .dataframe thead th {\n",
       "        text-align: right;\n",
       "    }\n",
       "</style>\n",
       "<table border=\"1\" class=\"dataframe\">\n",
       "  <thead>\n",
       "    <tr style=\"text-align: right;\">\n",
       "      <th></th>\n",
       "      <th>0</th>\n",
       "      <th>1</th>\n",
       "    </tr>\n",
       "  </thead>\n",
       "  <tbody>\n",
       "    <tr>\n",
       "      <th>0</th>\n",
       "      <td>50168.637286</td>\n",
       "      <td>Bathrooms</td>\n",
       "    </tr>\n",
       "    <tr>\n",
       "      <th>1</th>\n",
       "      <td>3632.595792</td>\n",
       "      <td>Bedrooms</td>\n",
       "    </tr>\n",
       "    <tr>\n",
       "      <th>2</th>\n",
       "      <td>-12274.491788</td>\n",
       "      <td>Foreclosure</td>\n",
       "    </tr>\n",
       "    <tr>\n",
       "      <th>3</th>\n",
       "      <td>1832.887507</td>\n",
       "      <td>Price/SQ.Ft</td>\n",
       "    </tr>\n",
       "    <tr>\n",
       "      <th>4</th>\n",
       "      <td>57635.404283</td>\n",
       "      <td>Regular</td>\n",
       "    </tr>\n",
       "    <tr>\n",
       "      <th>5</th>\n",
       "      <td>-19686.818918</td>\n",
       "      <td>Short Sale</td>\n",
       "    </tr>\n",
       "    <tr>\n",
       "      <th>6</th>\n",
       "      <td>207.593149</td>\n",
       "      <td>Size</td>\n",
       "    </tr>\n",
       "  </tbody>\n",
       "</table>\n",
       "</div>"
      ],
      "text/plain": [
       "              0            1\n",
       "0  50168.637286    Bathrooms\n",
       "1   3632.595792     Bedrooms\n",
       "2 -12274.491788  Foreclosure\n",
       "3   1832.887507  Price/SQ.Ft\n",
       "4  57635.404283      Regular\n",
       "5 -19686.818918   Short Sale\n",
       "6    207.593149         Size"
      ]
     },
     "metadata": {},
     "output_type": "display_data"
    }
   ],
   "source": [
    "# source: http://www.science.smith.edu/~jcrouser/SDS293/labs/lab10-py.html\n",
    "data=pd.read_csv('./data/RealEstate.csv')  \n",
    "\n",
    "alphas = 10**np.linspace(10,-2,100)*0.5\n",
    "# alphas = np.logspace(-3, -1, 30)\n",
    "print(\"range of alphas:\",min(alphas),max(alphas))\n",
    "data.drop(columns=[\"MLS\",\"Location\"],inplace=True)\n",
    "dummies=pd.get_dummies(data.Status)\n",
    "data=pd.concat([data,dummies],axis=1).drop(columns=[\"Status\"])\n",
    "# display(data)\n",
    "\n",
    "X=data[data.columns.difference(['Price'])]\n",
    "y=data[[\"Price\"]]\n",
    "X_train, X_test, y_train, y_test = train_test_split(X, y, test_size=0.33, random_state=42)\n",
    "ridgeCV=RidgeCV(alphas=alphas, normalize = True,cv=5)\n",
    "ridgeCV.fit(X_train,y_train)\n",
    "optimal_alpha=ridgeCV.alpha_\n",
    "print(\"optimal alpha: \",optimal_alpha)\n",
    "ridge= Ridge(alpha=optimal_alpha,normalize=True)\n",
    "model=ridge.fit(X,y)\n",
    "mse=mean_squared_error(y,ridge.predict(X))\n",
    "r2=ridge.score(X,y)\n",
    "print(\"mse for ridge regression: \",mse)\n",
    "print(\"r2 for ridge regression: \",r2)\n",
    "\n",
    "\n",
    "ridge.fit(X_train,y_train)\n",
    "# coeff=pd.Series(ridge.coef_, index = X.columns)\n",
    "display(ridge.coef_)\n",
    "display(DataFrame(list(zip(ridge.coef_[0], X_train.columns))))\n",
    "\n"
   ]
  },
  {
   "cell_type": "code",
   "execution_count": 4,
   "metadata": {},
   "outputs": [
    {
     "data": {
      "image/png": "[encoded data removed]",
      "text/plain": [
       "<Figure size 360x216 with 1 Axes>"
      ]
     },
     "metadata": {
      "needs_background": "light"
     },
     "output_type": "display_data"
    }
   ],
   "source": [
    "plt.figure(figsize=(5, 3))\n",
    "\n",
    "for Model in [Ridge]:\n",
    "    scores = [cross_val_score(Model(alpha),X_train,y_train,cv=5).mean()\n",
    "            for alpha in alphas]\n",
    "    plt.plot(alphas, scores, label=Model.__name__)\n",
    "\n",
    "plt.legend(loc='lower left')\n",
    "plt.xlabel('alpha')\n",
    "plt.ylabel('cross validation score')\n",
    "plt.tight_layout()\n",
    "plt.show()"
   ]
  },
  {
   "cell_type": "code",
   "execution_count": 7,
   "metadata": {},
   "outputs": [
    {
     "name": "stdout",
     "output_type": "stream",
     "text": [
      "optimal alpha:  100.8230376891931\n",
      "mean squared error <function mean_squared_error at 0x11e647e50>\n",
      "coeff by lasso: [14743.63086893    -0.             0.          2018.14174203\n",
      " 42604.79048105 -1962.03789044   252.46758038]\n"
     ]
    },
    {
     "data": {
      "text/html": [
       "<div>\n",
       "<style scoped>\n",
       "    .dataframe tbody tr th:only-of-type {\n",
       "        vertical-align: middle;\n",
       "    }\n",
       "\n",
       "    .dataframe tbody tr th {\n",
       "        vertical-align: top;\n",
       "    }\n",
       "\n",
       "    .dataframe thead th {\n",
       "        text-align: right;\n",
       "    }\n",
       "</style>\n",
       "<table border=\"1\" class=\"dataframe\">\n",
       "  <thead>\n",
       "    <tr style=\"text-align: right;\">\n",
       "      <th></th>\n",
       "      <th>0</th>\n",
       "      <th>1</th>\n",
       "    </tr>\n",
       "  </thead>\n",
       "  <tbody>\n",
       "    <tr>\n",
       "      <th>0</th>\n",
       "      <td>14743.630869</td>\n",
       "      <td>Bathrooms</td>\n",
       "    </tr>\n",
       "    <tr>\n",
       "      <th>1</th>\n",
       "      <td>-0.000000</td>\n",
       "      <td>Bedrooms</td>\n",
       "    </tr>\n",
       "    <tr>\n",
       "      <th>2</th>\n",
       "      <td>0.000000</td>\n",
       "      <td>Foreclosure</td>\n",
       "    </tr>\n",
       "    <tr>\n",
       "      <th>3</th>\n",
       "      <td>2018.141742</td>\n",
       "      <td>Price/SQ.Ft</td>\n",
       "    </tr>\n",
       "    <tr>\n",
       "      <th>4</th>\n",
       "      <td>42604.790481</td>\n",
       "      <td>Regular</td>\n",
       "    </tr>\n",
       "    <tr>\n",
       "      <th>5</th>\n",
       "      <td>-1962.037890</td>\n",
       "      <td>Short Sale</td>\n",
       "    </tr>\n",
       "    <tr>\n",
       "      <th>6</th>\n",
       "      <td>252.467580</td>\n",
       "      <td>Size</td>\n",
       "    </tr>\n",
       "  </tbody>\n",
       "</table>\n",
       "</div>"
      ],
      "text/plain": [
       "              0            1\n",
       "0  14743.630869    Bathrooms\n",
       "1     -0.000000     Bedrooms\n",
       "2      0.000000  Foreclosure\n",
       "3   2018.141742  Price/SQ.Ft\n",
       "4  42604.790481      Regular\n",
       "5  -1962.037890   Short Sale\n",
       "6    252.467580         Size"
      ]
     },
     "metadata": {},
     "output_type": "display_data"
    },
    {
     "data": {
      "image/png": "[encoded data removed]",
      "text/plain": [
       "<Figure size 360x216 with 1 Axes>"
      ]
     },
     "metadata": {
      "needs_background": "light"
     },
     "output_type": "display_data"
    }
   ],
   "source": [
    "lassocv = LassoCV(alphas = None, cv = 5, max_iter = 100000, normalize = True)\n",
    "lassocv.fit(X_train, y_train.values.flatten())\n",
    "optimal_alpha=lassocv.alpha_\n",
    "print(\"optimal alpha: \",optimal_alpha)\n",
    "lasso = Lasso(max_iter = 10000, normalize = True,)\n",
    "lasso.set_params(alpha=lassocv.alpha_)\n",
    "lasso.fit(X_train, y_train)\n",
    "mse=mean_squared_error(y_test.values.flatten(), lasso.predict(X_test))\n",
    "print(\"mean squared error\",mean_squared_error)\n",
    "alphas_lasso, coefs_lasso, _ = lasso_path(X_train, y_train, alpha=lassocv.alpha_)\n",
    "print(\"coeff by lasso:\",lasso.coef_)\n",
    "display(DataFrame(list(zip(lasso.coef_, X_train.columns))))\n",
    "\n",
    "plt.figure(figsize=(5, 3))\n",
    "\n",
    "for Model in [Lasso]:\n",
    "    scores = [cross_val_score(Model(alpha),X_train,y_train,cv=5).mean()\n",
    "            for alpha in alphas]\n",
    "    plt.plot(alphas, scores, label=Model.__name__)\n",
    "\n",
    "plt.legend(loc='upper right')\n",
    "plt.xlabel('alpha')\n",
    "plt.ylabel('cross validation score')\n",
    "plt.tight_layout()\n",
    "plt.show()\n"
   ]
  },
  {
   "cell_type": "code",
   "execution_count": 8,
   "metadata": {},
   "outputs": [
    {
     "name": "stdout",
     "output_type": "stream",
     "text": [
      "<class 'numpy.ndarray'>\n",
      "<class 'numpy.ndarray'>\n",
      "(781, 7)\n",
      "(781,)\n",
      "."
     ]
    },
    {
     "data": {
      "image/png": "[encoded data removed]",
      "text/plain": [
       "<Figure size 432x288 with 1 Axes>"
      ]
     },
     "metadata": {
      "needs_background": "light"
     },
     "output_type": "display_data"
    }
   ],
   "source": [
    "# source: \n",
    "X=X.to_numpy()\n",
    "y=y.values.flatten()\n",
    "print(type(X))\n",
    "print(type(y))\n",
    "print(X.shape)\n",
    "print(y.shape)\n",
    "_, _, coefs = lars_path(X, y, method='lasso', verbose=True)\n",
    "\n",
    "xx = np.sum(np.abs(coefs.T), axis=1)\n",
    "xx /= xx[-1]\n",
    "\n",
    "plt.plot(xx, coefs.T)\n",
    "ymin, ymax = plt.ylim()\n",
    "plt.vlines(xx, ymin, ymax, linestyle='dashed')\n",
    "plt.xlabel('|coef| / max|coef|')\n",
    "plt.ylabel('Coefficients')\n",
    "plt.title('LASSO Path')\n",
    "plt.axis('tight')\n",
    "plt.show()"
   ]
  },
  {
   "cell_type": "code",
   "execution_count": 9,
   "metadata": {},
   "outputs": [
    {
     "name": "stdout",
     "output_type": "stream",
     "text": [
      "optimal alpha: 466.30167344161\n",
      "[ 1.57649644e+01 -3.57474231e+00 -1.64975771e+00  2.04507392e+03\n",
      "  2.07069346e+01 -1.80568254e+01  2.67275949e+02]\n"
     ]
    },
    {
     "data": {
      "text/html": [
       "<div>\n",
       "<style scoped>\n",
       "    .dataframe tbody tr th:only-of-type {\n",
       "        vertical-align: middle;\n",
       "    }\n",
       "\n",
       "    .dataframe tbody tr th {\n",
       "        vertical-align: top;\n",
       "    }\n",
       "\n",
       "    .dataframe thead th {\n",
       "        text-align: right;\n",
       "    }\n",
       "</style>\n",
       "<table border=\"1\" class=\"dataframe\">\n",
       "  <thead>\n",
       "    <tr style=\"text-align: right;\">\n",
       "      <th></th>\n",
       "      <th>0</th>\n",
       "      <th>1</th>\n",
       "    </tr>\n",
       "  </thead>\n",
       "  <tbody>\n",
       "    <tr>\n",
       "      <th>0</th>\n",
       "      <td>15.764964</td>\n",
       "      <td>Bathrooms</td>\n",
       "    </tr>\n",
       "    <tr>\n",
       "      <th>1</th>\n",
       "      <td>-3.574742</td>\n",
       "      <td>Bedrooms</td>\n",
       "    </tr>\n",
       "    <tr>\n",
       "      <th>2</th>\n",
       "      <td>-1.649758</td>\n",
       "      <td>Foreclosure</td>\n",
       "    </tr>\n",
       "    <tr>\n",
       "      <th>3</th>\n",
       "      <td>2045.073923</td>\n",
       "      <td>Price/SQ.Ft</td>\n",
       "    </tr>\n",
       "    <tr>\n",
       "      <th>4</th>\n",
       "      <td>20.706935</td>\n",
       "      <td>Regular</td>\n",
       "    </tr>\n",
       "    <tr>\n",
       "      <th>5</th>\n",
       "      <td>-18.056825</td>\n",
       "      <td>Short Sale</td>\n",
       "    </tr>\n",
       "    <tr>\n",
       "      <th>6</th>\n",
       "      <td>267.275949</td>\n",
       "      <td>Size</td>\n",
       "    </tr>\n",
       "  </tbody>\n",
       "</table>\n",
       "</div>"
      ],
      "text/plain": [
       "             0            1\n",
       "0    15.764964    Bathrooms\n",
       "1    -3.574742     Bedrooms\n",
       "2    -1.649758  Foreclosure\n",
       "3  2045.073923  Price/SQ.Ft\n",
       "4    20.706935      Regular\n",
       "5   -18.056825   Short Sale\n",
       "6   267.275949         Size"
      ]
     },
     "metadata": {},
     "output_type": "display_data"
    }
   ],
   "source": [
    "# source: https://www.datatechnotes.com/2019/08/elasticnet-regression-example-in-python.html\n",
    "regr=ElasticNetCV(alphas=alphas,cv=5,l1_ratio=0.5)\n",
    "regr.fit(X_train, y_train)\n",
    "print(\"optimal alpha:\",regr.alpha_)\n",
    "en=ElasticNet(alpha=regr.alpha_,l1_ratio=0.5)\n",
    "en.fit(X_train,y_train)\n",
    "print(en.coef_)\n",
    "display(DataFrame(list(zip(en.coef_, X_train.columns))))"
   ]
  }
 ],
 "metadata": {
  "kernelspec": {
   "display_name": "Python 3",
   "language": "python",
   "name": "python3"
  },
  "language_info": {
   "codemirror_mode": {
    "name": "ipython",
    "version": 3
   },
   "file_extension": ".py",
   "mimetype": "text/x-python",
   "name": "python",
   "nbconvert_exporter": "python",
   "pygments_lexer": "ipython3",
   "version": "3.8.5"
  }
 },
 "nbformat": 4,
 "nbformat_minor": 4
}
